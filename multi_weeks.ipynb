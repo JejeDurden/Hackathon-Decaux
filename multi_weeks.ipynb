{
 "cells": [
  {
   "cell_type": "code",
   "execution_count": 46,
   "metadata": {
    "scrolled": false
   },
   "outputs": [],
   "source": [
    "import pandas as pd\n",
    "from ortools.linear_solver import pywraplp\n",
    "import numpy as np\n",
    "\n",
    "dataset = pd.read_csv(\"../Downloads/truc/faces.utf8.csv\")\n",
    "briefs = pd.read_csv(\"../Downloads/truc/briefs.utf8.csv\")\n",
    "briefs = briefs.values\n",
    "tmp = np.array([6.319625, 2.083290, 4.578867, 2.754223, 1, 8.543064, 10.461262, 9.185119, 1.330685])\n",
    "faces_cpm = np.matrix(dataset.iloc[:, 10:19], dtype=float)\n",
    "cpm_matrix = np.eye(9, dtype=float)\n",
    "cpm_row = tmp\n",
    "cpm_tomult = cpm_row.T * cpm_matrix\n",
    "faces_cpm *= cpm_tomult\n",
    "max_cpm = faces_cpm.max(1)\n",
    "dataset['rev_max'] = max_cpm\n",
    "dataset = dataset.values\n",
    "result = []\n",
    "def get_week(week, data):\n",
    "    array = []\n",
    "    for i in range(0, len(data)):\n",
    "        if data[i][0] == week:\n",
    "            array.append(data[i])\n",
    "    return (array)\n",
    "\n",
    "dict_col = {}\n",
    "dict_col[\"25_49csp\"] = 12\n",
    "dict_col[\"cspp\"] = 15\n",
    "dict_col[\"urb\"] = 18\n",
    "dict_col[\"all\"] = 14\n",
    "dict_col[\"f25_49rda\"] = 17\n",
    "dict_col[\"f25_49csp\"] = 16\n",
    "dict_col[\"15_24\"] = 10\n",
    "dict_col[\"25_49\"] = 11\n",
    "dict_col[\"25_49urb\"] = 13\n",
    "\n",
    "def get_max_week():\n",
    "    return (briefs[len(briefs)-1][0])\n",
    "\n",
    "def get_coeff(data, contactkey):\n",
    "    if data[19] == 0:\n",
    "        return (0)\n",
    "    return (data[contactkey] * tmp[contactkey - 10] / data[19] * 100)"
   ]
  },
  {
   "cell_type": "code",
   "execution_count": 47,
   "metadata": {},
   "outputs": [],
   "source": [
    "def solve_week(week_nb, result):\n",
    "    brief = [[]]\n",
    "    full_week = get_week(week_nb, briefs)\n",
    "    data = dataset.tolist()\n",
    "    for k in range (0, len(full_week)):\n",
    "        brief[0] = full_week[k]\n",
    "        contactkey = dict_col[brief[0][2]]\n",
    "        solver = pywraplp.Solver('SolveStigler', pywraplp.Solver.GLOP_LINEAR_PROGRAMMING)\n",
    "\n",
    "        faces = [[]] * len(data)\n",
    "        objective = solver.Objective()\n",
    "        for i in range(0, len(data)):\n",
    "            faces[i] = solver.NumVar(0, 1, data[i][0])\n",
    "            objective.SetCoefficient(faces[i], get_coeff(data[i], contactkey))\n",
    "        objective.SetMinimization()\n",
    "\n",
    "        constraints = [0] * len(brief)\n",
    "        for i in range(0, len(brief)):\n",
    "            constraints[i] = solver.Constraint(brief[i][3], solver.infinity())\n",
    "            for j in range(0, len(data)):\n",
    "                constraints[i].SetCoefficient(faces[j], data[j][contactkey])\n",
    "                \n",
    "\n",
    "        status = solver.Solve()\n",
    "        ref = []\n",
    "        if status == solver.OPTIMAL:\n",
    "            nb_faces = 0\n",
    "            re = []\n",
    "            indexes = []\n",
    "            for i in range (0, len(data)):\n",
    "                if (faces[i].solution_value() > 0):\n",
    "                    nb_faces += 1\n",
    "                    indexes.append(i)\n",
    "                    re.append(data[i][0])\n",
    "            result.append(re)\n",
    "            for i in reversed(indexes):\n",
    "                data.pop(i)\n",
    "        else:\n",
    "            result.append(ref)\n",
    "    return (result)\n",
    "\n",
    "for i in range(1, get_max_week() + 1):\n",
    "    result = solve_week(i, result)"
   ]
  },
  {
   "cell_type": "code",
   "execution_count": 48,
   "metadata": {
    "collapsed": true
   },
   "outputs": [],
   "source": [
    "def make_key(week, order):\n",
    "    return '\"(week-' + str(week) + \", order-\" + str(order) + ')\"'\n",
    "def make_value(sol):\n",
    "    ret = \"[\"\n",
    "    l = len(sol)\n",
    "    for i in range(0, l):\n",
    "        ret += '\"'+str(sol[i])+'\"'\n",
    "        if i != l - 1:\n",
    "            ret +=\",\"\n",
    "    ret += \"]\"\n",
    "    return ret\n",
    "def to_submit(sols):\n",
    "    ret = \"{\"\n",
    "    l = len(sols)\n",
    "   # if l != len(briefs):\n",
    "   #    return \"Error. The number of briefs and number of results are not matching.\"\n",
    "    for i in range(0, l):\n",
    "        if len(sols[i]) != 0:\n",
    "            ret += make_key(briefs[i][0], briefs[i][1]) + \":\" + make_value(sols[i])\n",
    "            if i != l -1:\n",
    "                ret += \",\"\n",
    "    if ret[-1] == ',':\n",
    "        ret = ret[:-1]\n",
    "    ret += \"}\"\n",
    "    return ret"
   ]
  },
  {
   "cell_type": "code",
   "execution_count": 52,
   "metadata": {},
   "outputs": [
    {
     "name": "stdout",
     "output_type": "stream",
     "text": [
      "232\n"
     ]
    }
   ],
   "source": [
    "import json\n",
    "s = to_submit(result)\n",
    "test = json.JSONDecoder()\n",
    "test.decode(s)\n",
    "print(len(result))"
   ]
  },
  {
   "cell_type": "code",
   "execution_count": 53,
   "metadata": {
    "collapsed": true
   },
   "outputs": [],
   "source": [
    "f = open(\"answer.json\", \"w\")\n",
    "f.write(s)\n",
    "f.close()"
   ]
  },
  {
   "cell_type": "code",
   "execution_count": null,
   "metadata": {
    "collapsed": true
   },
   "outputs": [],
   "source": []
  }
 ],
 "metadata": {
  "kernelspec": {
   "display_name": "Python 3",
   "language": "python",
   "name": "python3"
  },
  "language_info": {
   "codemirror_mode": {
    "name": "ipython",
    "version": 3
   },
   "file_extension": ".py",
   "mimetype": "text/x-python",
   "name": "python",
   "nbconvert_exporter": "python",
   "pygments_lexer": "ipython3",
   "version": "3.6.1"
  }
 },
 "nbformat": 4,
 "nbformat_minor": 2
}
