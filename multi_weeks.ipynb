{
 "cells": [
  {
   "cell_type": "code",
   "execution_count": 56,
   "metadata": {
    "scrolled": false
   },
   "outputs": [
    {
     "name": "stderr",
     "output_type": "stream",
     "text": [
      "IOPub data rate exceeded.\n",
      "The notebook server will temporarily stop sending output\n",
      "to the client in order to avoid crashing it.\n",
      "To change this limit, set the config variable\n",
      "`--NotebookApp.iopub_data_rate_limit`.\n"
     ]
    }
   ],
   "source": [
    "import pandas as pd\n",
    "from ortools.linear_solver import pywraplp\n",
    "import numpy as np\n",
    "\n",
    "dataset = pd.read_csv(\"../Downloads/truc/faces.utf8.csv\")\n",
    "dataset = dataset.values\n",
    "briefs = pd.read_csv(\"../Downloads/truc/briefs.utf8.csv\")\n",
    "briefs = briefs.values\n",
    "result = [[]]\n",
    "\n",
    "def get_week(week, data):\n",
    "    array = []\n",
    "    for i in range(0, len(data)):\n",
    "        if data[i][0] == week:\n",
    "            array.append(data[i])\n",
    "    return (array)\n",
    "\n",
    "dict_col = {}\n",
    "dict_col[\"25_49csp\"] = 12\n",
    "dict_col[\"cspp\"] = 15\n",
    "dict_col[\"urb\"] = 18\n",
    "dict_col[\"all\"] = 14\n",
    "dict_col[\"f25_49rda\"] = 17\n",
    "dict_col[\"f25_49csp\"] = 16\n",
    "dict_col[\"15_24\"] = 10\n",
    "dict_col[\"25_49\"] = 11\n",
    "dict_col[\"25_49urb\"] = 13\n",
    "\n",
    "def get_max_week():\n",
    "    return (briefs[len(briefs)-1][0])\n",
    "\n",
    "def solve_week(week_nb, result):\n",
    "    brief = [[]]\n",
    "    full_week = get_week(week_nb, briefs)\n",
    "    data = dataset.tolist()\n",
    "    for k in range (0, len(full_week)):\n",
    "        brief[0] = full_week[k]\n",
    "        solver = pywraplp.Solver('SolveStigler', pywraplp.Solver.GLOP_LINEAR_PROGRAMMING)\n",
    "\n",
    "        faces = [[]] * len(data)\n",
    "        objective = solver.Objective()\n",
    "        for i in range(0, len(data)):\n",
    "            faces[i] = solver.NumVar(0, 1, data[i][0])\n",
    "            objective.SetCoefficient(faces[i], 1)\n",
    "        objective.SetMinimization()\n",
    "\n",
    "        constraints = [0] * len(brief)\n",
    "        for i in range(0, len(brief)):\n",
    "            constraints[i] = solver.Constraint(brief[i][3], solver.infinity())\n",
    "            for j in range(0, len(data)):\n",
    "                contactkey = dict_col[brief[i][2]]\n",
    "                constraints[i].SetCoefficient(faces[j], data[j][contactkey])\n",
    "                \n",
    "\n",
    "        status = solver.Solve()\n",
    "        ref = []\n",
    "        if status == solver.OPTIMAL:\n",
    "            nb_faces = 0\n",
    "            re = []\n",
    "            indexes = []\n",
    "            for i in range (0, len(data)):\n",
    "                if (faces[i].solution_value() > 0):\n",
    "                    nb_faces += 1\n",
    "                    indexes.append(i)\n",
    "                    re.append(data[i][0])\n",
    "            result.append(re)\n",
    "            for i in reversed(indexes):\n",
    "                data.pop(i)\n",
    "        else:\n",
    "            if status != solver.FEASIBLE:\n",
    "                result.append(ref)\n",
    "    return (result)\n",
    "\n",
    "for i in range(1, get_max_week() + 1):\n",
    "    result = solve_week(i, result)\n",
    "print (result)"
   ]
  },
  {
   "cell_type": "code",
   "execution_count": null,
   "metadata": {
    "collapsed": true
   },
   "outputs": [],
   "source": []
  }
 ],
 "metadata": {
  "kernelspec": {
   "display_name": "Python 3",
   "language": "python",
   "name": "python3"
  },
  "language_info": {
   "codemirror_mode": {
    "name": "ipython",
    "version": 3
   },
   "file_extension": ".py",
   "mimetype": "text/x-python",
   "name": "python",
   "nbconvert_exporter": "python",
   "pygments_lexer": "ipython3",
   "version": "3.6.1"
  }
 },
 "nbformat": 4,
 "nbformat_minor": 2
}
