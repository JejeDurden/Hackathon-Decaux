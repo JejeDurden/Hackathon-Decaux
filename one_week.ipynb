{
 "cells": [
  {
   "cell_type": "code",
   "execution_count": 51,
   "metadata": {
    "scrolled": false
   },
   "outputs": [
    {
     "name": "stdout",
     "output_type": "stream",
     "text": [
      "An optimal solution was found.\n",
      "1062\n"
     ]
    }
   ],
   "source": [
    "import pandas as pd\n",
    "from ortools.linear_solver import pywraplp\n",
    "\n",
    "\n",
    "data = pd.read_csv(\"./truc/faces.utf8.csv\")\n",
    "data = data.values\n",
    "briefs = pd.read_csv(\"./truc/briefs.utf8.csv\")\n",
    "briefs = briefs.values\n",
    "\n",
    "def getWeek(week, data):\n",
    "    array = []\n",
    "    for i in range(0, len(data)):\n",
    "        if data[i][0] == week:\n",
    "            array.append(data[i])\n",
    "    return (array)\n",
    "        \n",
    "brief = getWeek(1, briefs)\n",
    "solver = pywraplp.Solver('SolveStigler', pywraplp.Solver.GLOP_LINEAR_PROGRAMMING)\n",
    "\n",
    "def getCol(name):\n",
    "    if name == \"25_49csp\":\n",
    "        return (12)\n",
    "    elif name == \"cspp\":\n",
    "        return (15)\n",
    "    elif name == \"urb\":\n",
    "        return (18)\n",
    "    elif name == \"all\":\n",
    "        return (14)\n",
    "    elif name == \"f25_49rda\":\n",
    "        return (17)\n",
    "    elif name == \"f25_49csp\":\n",
    "        return (16)\n",
    "    elif name == \"15_24\":\n",
    "        return (10)\n",
    "    elif name == \"25_49\":\n",
    "        return (11)\n",
    "    elif name == \"25_49urb\":\n",
    "        return (13)\n",
    "\n",
    "faces = [[]] * len(data)\n",
    "objective = solver.Objective()\n",
    "for i in range(0, len(data)):\n",
    "    faces[i] = solver.NumVar(0, 1, data[i][0])\n",
    "    objective.SetCoefficient(faces[i], 1)\n",
    "objective.SetMinimization()\n",
    "\n",
    "constraints = [0] * len(brief)\n",
    "for i in range(0, len(brief)):\n",
    "    constraints[i] = solver.Constraint(brief[i][3], solver.infinity())\n",
    "    for j in range(0, len(data)):\n",
    "        contactkey = getCol(brief[i][2])\n",
    "        constraints[i].SetCoefficient(faces[j], data[j][contactkey])\n",
    "\n",
    "status = solver.Solve()\n",
    "if status == solver.OPTIMAL:\n",
    "    print ('An optimal solution was found.')\n",
    "else:\n",
    "    print ('The solver could not solve the problem.')\n",
    "    \n",
    "nb = 0\n",
    "for i in range(0, len(data)):\n",
    "    if faces[i].solution_value() > 0:\n",
    "        nb += 1\n",
    "\n",
    "print (nb)"
   ]
  },
  {
   "cell_type": "code",
   "execution_count": null,
   "metadata": {
    "collapsed": true
   },
   "outputs": [],
   "source": []
  }
 ],
 "metadata": {
  "kernelspec": {
   "display_name": "Python 3",
   "language": "python",
   "name": "python3"
  },
  "language_info": {
   "codemirror_mode": {
    "name": "ipython",
    "version": 3
   },
   "file_extension": ".py",
   "mimetype": "text/x-python",
   "name": "python",
   "nbconvert_exporter": "python",
   "pygments_lexer": "ipython3",
   "version": "3.6.1"
  }
 },
 "nbformat": 4,
 "nbformat_minor": 2
}
